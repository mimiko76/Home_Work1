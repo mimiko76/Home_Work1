{
 "cells": [
  {
   "cell_type": "code",
   "execution_count": 13,
   "metadata": {},
   "outputs": [],
   "source": [
    "import random\n",
    "import pandas as pd"
   ]
  },
  {
   "cell_type": "code",
   "execution_count": 14,
   "metadata": {},
   "outputs": [],
   "source": [
    "lst = ['robot'] * 10\n",
    "lst += ['human'] * 10\n",
    "random.shuffle(lst)"
   ]
  },
  {
   "cell_type": "code",
   "execution_count": 15,
   "metadata": {},
   "outputs": [],
   "source": [
    "data = pd.DataFrame({'whoAmI': lst})"
   ]
  },
  {
   "cell_type": "code",
   "execution_count": 16,
   "metadata": {},
   "outputs": [],
   "source": [
    "def  solution(data):\n",
    "    unique_values = list(set(data['whoAmI']))\n",
    "    for value in unique_values:\n",
    "        data[value] = (data['whoAmI'] == value).astype(int)\n",
    "    data.drop('whoAmI', axis=1, inplace=True)\n",
    "    return data"
   ]
  },
  {
   "cell_type": "code",
   "execution_count": 17,
   "metadata": {},
   "outputs": [
    {
     "name": "stdout",
     "output_type": "stream",
     "text": [
      "    human  robot\n",
      "0       1      0\n",
      "1       0      1\n",
      "2       1      0\n",
      "3       1      0\n",
      "4       0      1\n",
      "5       1      0\n",
      "6       1      0\n",
      "7       0      1\n",
      "8       0      1\n",
      "9       1      0\n",
      "10      0      1\n",
      "11      0      1\n",
      "12      0      1\n",
      "13      0      1\n",
      "14      1      0\n",
      "15      0      1\n",
      "16      1      0\n",
      "17      1      0\n",
      "18      1      0\n",
      "19      0      1\n"
     ]
    }
   ],
   "source": [
    "result =  solution(data)\n",
    "print(result.head(20))"
   ]
  }
 ],
 "metadata": {
  "kernelspec": {
   "display_name": "Python 3",
   "language": "python",
   "name": "python3"
  },
  "language_info": {
   "codemirror_mode": {
    "name": "ipython",
    "version": 3
   },
   "file_extension": ".py",
   "mimetype": "text/x-python",
   "name": "python",
   "nbconvert_exporter": "python",
   "pygments_lexer": "ipython3",
   "version": "3.11.0"
  },
  "orig_nbformat": 4
 },
 "nbformat": 4,
 "nbformat_minor": 2
}
